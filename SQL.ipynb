{
 "cells": [
  {
   "cell_type": "markdown",
   "id": "897745ee-05fa-44bf-841f-f8ca674e01f8",
   "metadata": {},
   "source": [
    "### Auteur: Abdelfattah Abouelaoualim\n",
    "### Email: abouelaoualim.a@sfeir.com\n",
    "\n",
    "\n",
    "conda install -c conda-forge ipython-sql"
   ]
  },
  {
   "cell_type": "code",
   "execution_count": 1,
   "id": "3512875a-f899-4109-aa24-39a208be6749",
   "metadata": {},
   "outputs": [
    {
     "data": {
      "text/plain": [
       "'Connected: @None'"
      ]
     },
     "execution_count": 1,
     "metadata": {},
     "output_type": "execute_result"
    }
   ],
   "source": [
    "%load_ext sql\n",
    "%sql sqlite://"
   ]
  },
  {
   "cell_type": "code",
   "execution_count": 5,
   "id": "bdbf091a-0057-4e7c-89af-ce032432a3f0",
   "metadata": {},
   "outputs": [
    {
     "name": "stdout",
     "output_type": "stream",
     "text": [
      " * sqlite://\n",
      "Done.\n",
      "Done.\n"
     ]
    },
    {
     "data": {
      "text/plain": [
       "[]"
      ]
     },
     "execution_count": 5,
     "metadata": {},
     "output_type": "execute_result"
    }
   ],
   "source": [
    "%%sql drop table if exists TRANSACT;\n",
    "create table TRANSACT\n",
    "(date DATETIME, order_id int, client_id int, prod_id int, prod_price float, prod_qty int)"
   ]
  },
  {
   "cell_type": "code",
   "execution_count": 6,
   "id": "1f25c858-68e2-454d-8d3d-624e3e3e6b71",
   "metadata": {},
   "outputs": [
    {
     "name": "stdout",
     "output_type": "stream",
     "text": [
      " * sqlite://\n",
      "8 rows affected.\n"
     ]
    },
    {
     "data": {
      "text/plain": [
       "[]"
      ]
     },
     "execution_count": 6,
     "metadata": {},
     "output_type": "execute_result"
    }
   ],
   "source": [
    "%%sql\n",
    "insert into TRANSACT values\n",
    "('01/01/19', 1234, 999, 490756, 50, 1),\n",
    "('01/01/19', 1234, 999, 389728, 3.56, 4),\n",
    "('02/01/19', 3456, 845, 490756, 50, 2),\n",
    "('02/01/19', 3456, 845, 549380, 300, 1),\n",
    "('02/01/19', 3456, 845, 293718, 10, 6),\n",
    "('03/01/19', 3457, 846, 549380, 21, 11),\n",
    "('03/01/19', 3458, 847, 490756, 15, 1),\n",
    "('31/12/19', 3459, 848, 389728, 15, 2)"
   ]
  },
  {
   "cell_type": "code",
   "execution_count": 7,
   "id": "b293fee2-fd79-4f38-9719-8fcbb0971a3f",
   "metadata": {},
   "outputs": [
    {
     "name": "stdout",
     "output_type": "stream",
     "text": [
      " * sqlite://\n",
      "Done.\n"
     ]
    },
    {
     "data": {
      "text/html": [
       "<table>\n",
       "    <thead>\n",
       "        <tr>\n",
       "            <th>date</th>\n",
       "            <th>order_id</th>\n",
       "            <th>client_id</th>\n",
       "            <th>prod_id</th>\n",
       "            <th>prod_price</th>\n",
       "            <th>prod_qty</th>\n",
       "        </tr>\n",
       "    </thead>\n",
       "    <tbody>\n",
       "        <tr>\n",
       "            <td>01/01/19</td>\n",
       "            <td>1234</td>\n",
       "            <td>999</td>\n",
       "            <td>490756</td>\n",
       "            <td>50.0</td>\n",
       "            <td>1</td>\n",
       "        </tr>\n",
       "        <tr>\n",
       "            <td>01/01/19</td>\n",
       "            <td>1234</td>\n",
       "            <td>999</td>\n",
       "            <td>389728</td>\n",
       "            <td>3.56</td>\n",
       "            <td>4</td>\n",
       "        </tr>\n",
       "        <tr>\n",
       "            <td>02/01/19</td>\n",
       "            <td>3456</td>\n",
       "            <td>845</td>\n",
       "            <td>490756</td>\n",
       "            <td>50.0</td>\n",
       "            <td>2</td>\n",
       "        </tr>\n",
       "        <tr>\n",
       "            <td>02/01/19</td>\n",
       "            <td>3456</td>\n",
       "            <td>845</td>\n",
       "            <td>549380</td>\n",
       "            <td>300.0</td>\n",
       "            <td>1</td>\n",
       "        </tr>\n",
       "        <tr>\n",
       "            <td>02/01/19</td>\n",
       "            <td>3456</td>\n",
       "            <td>845</td>\n",
       "            <td>293718</td>\n",
       "            <td>10.0</td>\n",
       "            <td>6</td>\n",
       "        </tr>\n",
       "        <tr>\n",
       "            <td>03/01/19</td>\n",
       "            <td>3457</td>\n",
       "            <td>846</td>\n",
       "            <td>549380</td>\n",
       "            <td>21.0</td>\n",
       "            <td>11</td>\n",
       "        </tr>\n",
       "        <tr>\n",
       "            <td>03/01/19</td>\n",
       "            <td>3458</td>\n",
       "            <td>847</td>\n",
       "            <td>490756</td>\n",
       "            <td>15.0</td>\n",
       "            <td>1</td>\n",
       "        </tr>\n",
       "        <tr>\n",
       "            <td>31/12/19</td>\n",
       "            <td>3459</td>\n",
       "            <td>848</td>\n",
       "            <td>389728</td>\n",
       "            <td>15.0</td>\n",
       "            <td>2</td>\n",
       "        </tr>\n",
       "    </tbody>\n",
       "</table>"
      ],
      "text/plain": [
       "[('01/01/19', 1234, 999, 490756, 50.0, 1),\n",
       " ('01/01/19', 1234, 999, 389728, 3.56, 4),\n",
       " ('02/01/19', 3456, 845, 490756, 50.0, 2),\n",
       " ('02/01/19', 3456, 845, 549380, 300.0, 1),\n",
       " ('02/01/19', 3456, 845, 293718, 10.0, 6),\n",
       " ('03/01/19', 3457, 846, 549380, 21.0, 11),\n",
       " ('03/01/19', 3458, 847, 490756, 15.0, 1),\n",
       " ('31/12/19', 3459, 848, 389728, 15.0, 2)]"
      ]
     },
     "execution_count": 7,
     "metadata": {},
     "output_type": "execute_result"
    }
   ],
   "source": [
    "%%sql\n",
    "select * from TRANSACT"
   ]
  },
  {
   "cell_type": "markdown",
   "id": "5d93c87b-b86f-4e44-8fec-00d6172c61fe",
   "metadata": {},
   "source": [
    "### Première partie du test"
   ]
  },
  {
   "cell_type": "code",
   "execution_count": 8,
   "id": "6bc3ac35-34b1-4df4-a077-7af76d68d200",
   "metadata": {},
   "outputs": [
    {
     "name": "stdout",
     "output_type": "stream",
     "text": [
      " * sqlite://\n",
      "Done.\n"
     ]
    },
    {
     "data": {
      "text/html": [
       "<table>\n",
       "    <thead>\n",
       "        <tr>\n",
       "            <th>date</th>\n",
       "            <th>ventes</th>\n",
       "        </tr>\n",
       "    </thead>\n",
       "    <tbody>\n",
       "        <tr>\n",
       "            <td>01/01/19</td>\n",
       "            <td>64.24</td>\n",
       "        </tr>\n",
       "        <tr>\n",
       "            <td>02/01/19</td>\n",
       "            <td>460.0</td>\n",
       "        </tr>\n",
       "        <tr>\n",
       "            <td>03/01/19</td>\n",
       "            <td>246.0</td>\n",
       "        </tr>\n",
       "        <tr>\n",
       "            <td>31/12/19</td>\n",
       "            <td>30.0</td>\n",
       "        </tr>\n",
       "    </tbody>\n",
       "</table>"
      ],
      "text/plain": [
       "[('01/01/19', 64.24),\n",
       " ('02/01/19', 460.0),\n",
       " ('03/01/19', 246.0),\n",
       " ('31/12/19', 30.0)]"
      ]
     },
     "execution_count": 8,
     "metadata": {},
     "output_type": "execute_result"
    }
   ],
   "source": [
    "%%sql\n",
    "select date, sum(prod_price * prod_qty) as ventes from TRANSACT\n",
    "where date between '01/01/19' and '31/12/19'\n",
    "group by date\n"
   ]
  },
  {
   "cell_type": "code",
   "execution_count": 27,
   "id": "1ffa5f41-ae61-4838-85ef-8d9818040015",
   "metadata": {},
   "outputs": [
    {
     "name": "stdout",
     "output_type": "stream",
     "text": [
      " * sqlite://\n",
      "Done.\n",
      "Done.\n"
     ]
    },
    {
     "data": {
      "text/plain": [
       "[]"
      ]
     },
     "execution_count": 27,
     "metadata": {},
     "output_type": "execute_result"
    }
   ],
   "source": [
    "%%sql drop table if exists PRODUCT_NOMENCLATURE;\n",
    "create table PRODUCT_NOMENCLATURE\n",
    "(product_id int unique, product_type varchar(50), product_name varchar(50))"
   ]
  },
  {
   "cell_type": "code",
   "execution_count": 28,
   "id": "cd34745f-e737-47a1-99ff-1a5d9b9eeea6",
   "metadata": {},
   "outputs": [
    {
     "name": "stdout",
     "output_type": "stream",
     "text": [
      " * sqlite://\n",
      "4 rows affected.\n"
     ]
    },
    {
     "data": {
      "text/plain": [
       "[]"
      ]
     },
     "execution_count": 28,
     "metadata": {},
     "output_type": "execute_result"
    }
   ],
   "source": [
    "%%sql\n",
    "insert into PRODUCT_NOMENCLATURE values\n",
    "(490756, 'MEUBLE', 'Chaise'),\n",
    "(389728, 'DECO', 'Boule de Noël'),\n",
    "(549380, 'MEUBLE', 'Canapé'),\n",
    "(293718, 'DECO', 'Mug')"
   ]
  },
  {
   "cell_type": "code",
   "execution_count": 29,
   "id": "d7978966-fe9b-40e1-8bf4-10a925af1442",
   "metadata": {},
   "outputs": [
    {
     "name": "stdout",
     "output_type": "stream",
     "text": [
      " * sqlite://\n",
      "Done.\n"
     ]
    },
    {
     "data": {
      "text/html": [
       "<table>\n",
       "    <thead>\n",
       "        <tr>\n",
       "            <th>product_id</th>\n",
       "            <th>product_type</th>\n",
       "            <th>product_name</th>\n",
       "        </tr>\n",
       "    </thead>\n",
       "    <tbody>\n",
       "        <tr>\n",
       "            <td>490756</td>\n",
       "            <td>MEUBLE</td>\n",
       "            <td>Chaise</td>\n",
       "        </tr>\n",
       "        <tr>\n",
       "            <td>389728</td>\n",
       "            <td>DECO</td>\n",
       "            <td>Boule de Noël</td>\n",
       "        </tr>\n",
       "        <tr>\n",
       "            <td>549380</td>\n",
       "            <td>MEUBLE</td>\n",
       "            <td>Canapé</td>\n",
       "        </tr>\n",
       "        <tr>\n",
       "            <td>293718</td>\n",
       "            <td>DECO</td>\n",
       "            <td>Mug</td>\n",
       "        </tr>\n",
       "    </tbody>\n",
       "</table>"
      ],
      "text/plain": [
       "[(490756, 'MEUBLE', 'Chaise'),\n",
       " (389728, 'DECO', 'Boule de Noël'),\n",
       " (549380, 'MEUBLE', 'Canapé'),\n",
       " (293718, 'DECO', 'Mug')]"
      ]
     },
     "execution_count": 29,
     "metadata": {},
     "output_type": "execute_result"
    }
   ],
   "source": [
    "%%sql\n",
    "select * from PRODUCT_NOMENCLATURE"
   ]
  },
  {
   "cell_type": "markdown",
   "id": "7298c235-5ca9-4858-8434-4b65f4ba193f",
   "metadata": {},
   "source": [
    "### Seconde partie du test"
   ]
  },
  {
   "cell_type": "code",
   "execution_count": 79,
   "id": "c1eb992d-dc19-4ec3-9505-160240dade3e",
   "metadata": {},
   "outputs": [
    {
     "name": "stdout",
     "output_type": "stream",
     "text": [
      " * sqlite://\n",
      "Done.\n"
     ]
    },
    {
     "data": {
      "text/html": [
       "<table>\n",
       "    <thead>\n",
       "        <tr>\n",
       "            <th>client_id</th>\n",
       "            <th>ventes_meuble</th>\n",
       "            <th>ventes_deco</th>\n",
       "        </tr>\n",
       "    </thead>\n",
       "    <tbody>\n",
       "        <tr>\n",
       "            <td>845</td>\n",
       "            <td>400.0</td>\n",
       "            <td>60.0</td>\n",
       "        </tr>\n",
       "        <tr>\n",
       "            <td>846</td>\n",
       "            <td>231.0</td>\n",
       "            <td>0</td>\n",
       "        </tr>\n",
       "        <tr>\n",
       "            <td>847</td>\n",
       "            <td>15.0</td>\n",
       "            <td>0</td>\n",
       "        </tr>\n",
       "        <tr>\n",
       "            <td>848</td>\n",
       "            <td>0</td>\n",
       "            <td>30.0</td>\n",
       "        </tr>\n",
       "        <tr>\n",
       "            <td>999</td>\n",
       "            <td>50.0</td>\n",
       "            <td>14.24</td>\n",
       "        </tr>\n",
       "    </tbody>\n",
       "</table>"
      ],
      "text/plain": [
       "[(845, 400.0, 60.0),\n",
       " (846, 231.0, 0),\n",
       " (847, 15.0, 0),\n",
       " (848, 0, 30.0),\n",
       " (999, 50.0, 14.24)]"
      ]
     },
     "execution_count": 79,
     "metadata": {},
     "output_type": "execute_result"
    }
   ],
   "source": [
    "%%sql\n",
    "select client_id, sum(vmeuble) as ventes_meuble, sum(vdeco) as ventes_deco from (\n",
    "select A.client_id,\n",
    "case when B.product_type = 'MEUBLE' then A.prod_price * A.prod_qty else 0 end as 'vmeuble',\n",
    "case when B.product_type = 'DECO' then A.prod_price * A.prod_qty else 0 end as 'vdeco'\n",
    "from TRANSACT A\n",
    "join PRODUCT_NOMENCLATURE B on B.product_id = A.prod_id\n",
    ")\n",
    "group by client_id"
   ]
  }
 ],
 "metadata": {
  "kernelspec": {
   "display_name": "Python 3 (ipykernel)",
   "language": "python",
   "name": "python3"
  },
  "language_info": {
   "codemirror_mode": {
    "name": "ipython",
    "version": 3
   },
   "file_extension": ".py",
   "mimetype": "text/x-python",
   "name": "python",
   "nbconvert_exporter": "python",
   "pygments_lexer": "ipython3",
   "version": "3.8.13"
  }
 },
 "nbformat": 4,
 "nbformat_minor": 5
}
