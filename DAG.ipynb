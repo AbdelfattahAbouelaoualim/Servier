{
 "cells": [
  {
   "cell_type": "markdown",
   "id": "36fb8ca4-fe4f-481e-bbe5-a44912193e5d",
   "metadata": {},
   "source": [
    "## Auteur: Abdelfattah Aboueloualim\n",
    "### Email: abouelaoualim.a@sfeir.com\n",
    "\n",
    "Les DAGs proposés par les services tels que **Cloud Composer** (Airflow) pour traiter des pipelines de Data Engineering, sont très efficaces pour simplifier et automatiser les traitements sur les données massives.\n",
    "\n",
    "Ici, faute de temps, je vous propose de voir ce **Notebook** comme un **DAG**, puisque ces cellules ne forme pas de cycle!\n",
    "\n",
    "Dans ce **DAG** (*Notebook*), on importe une libraire que j'ai codé dans le fichier **servier.py**. Les méthodes de cette librairie et leurs ouput peuvent être réutilisés facilement dans d'autres **DAS**. "
   ]
  },
  {
   "cell_type": "markdown",
   "id": "acf5ef1b-4cd3-4ee8-903a-82f78506cda5",
   "metadata": {},
   "source": [
    "#### Importation de la librairie servier"
   ]
  },
  {
   "cell_type": "code",
   "execution_count": 2,
   "id": "8f4bc845-2a4f-404b-8744-2e80b0ab2a93",
   "metadata": {},
   "outputs": [
    {
     "name": "stdout",
     "output_type": "stream",
     "text": [
      "INFO: Pandarallel will run on 8 workers.\n",
      "INFO: Pandarallel will use Memory file system to transfer data between the main process and workers.\n"
     ]
    }
   ],
   "source": [
    "import servier\n",
    "%matplotlib inline"
   ]
  },
  {
   "cell_type": "code",
   "execution_count": 3,
   "id": "1551e37c-bdf5-4e3c-87c0-eb65932407de",
   "metadata": {},
   "outputs": [
    {
     "name": "stdout",
     "output_type": "stream",
     "text": [
      "clinical_trials.csv  drugs.csv\t pubmed.json  servier.py\n",
      "DAG.ipynb\t     pubmed.csv  __pycache__  SQL.ipynb\n"
     ]
    }
   ],
   "source": [
    "!ls"
   ]
  },
  {
   "cell_type": "markdown",
   "id": "e24613e3-541d-4d14-908e-4ca22a2d57a6",
   "metadata": {},
   "source": [
    "#### Création des Dataframes à partir des fichiers csv\n",
    "\n",
    "N.B.: Je n'ai pas eu besoin d'utiliser le fichier **pubmed.json**"
   ]
  },
  {
   "cell_type": "code",
   "execution_count": 4,
   "id": "1c02505f-1ccc-43ac-a5e0-d5c7e6c492bc",
   "metadata": {},
   "outputs": [],
   "source": [
    "df_clinical = servier.get_df(\"clinical_trials.csv\")"
   ]
  },
  {
   "cell_type": "code",
   "execution_count": 5,
   "id": "28362d2c-4257-4f3a-b5fb-cbdfcb1521cc",
   "metadata": {},
   "outputs": [],
   "source": [
    "df_drugs = servier.get_df(\"drugs.csv\")"
   ]
  },
  {
   "cell_type": "code",
   "execution_count": 6,
   "id": "80f92ded-3a80-4528-8d10-346131f800e9",
   "metadata": {},
   "outputs": [],
   "source": [
    "df_pubmed = servier.get_df(\"pubmed.csv\")"
   ]
  },
  {
   "cell_type": "markdown",
   "id": "6a4c2ae2-9258-4593-8c88-b4726e4e1f42",
   "metadata": {},
   "source": [
    "#### Traitement du texte des colonnes *title* et *journal* et formatage des colonnes *date*"
   ]
  },
  {
   "cell_type": "code",
   "execution_count": 7,
   "id": "a92659a4-52ac-4e85-a38d-7d019f3333b7",
   "metadata": {},
   "outputs": [],
   "source": [
    "df_clinical = servier.df_preprocessing(df_clinical)"
   ]
  },
  {
   "cell_type": "code",
   "execution_count": 8,
   "id": "bc0aaf68-b29c-485f-a090-c086a139b6a8",
   "metadata": {},
   "outputs": [],
   "source": [
    "df_pubmed = servier.df_preprocessing(df_pubmed)"
   ]
  },
  {
   "cell_type": "markdown",
   "id": "9f2ace46-02a7-4567-9a3a-4884229c8a4e",
   "metadata": {},
   "source": [
    "#### Détection des *drugs* mentionnés dans les *titles* et ajout d'une colonne *drug*"
   ]
  },
  {
   "cell_type": "code",
   "execution_count": 9,
   "id": "5bb00f8b-0f52-4112-8814-265ef7e4608c",
   "metadata": {},
   "outputs": [],
   "source": [
    "df_clinical = servier.add_drugs(df_clinical, df_drugs)"
   ]
  },
  {
   "cell_type": "code",
   "execution_count": 10,
   "id": "512d663d-ab0a-4b88-b422-8b4770f18551",
   "metadata": {},
   "outputs": [
    {
     "data": {
      "text/html": [
       "<div>\n",
       "<style scoped>\n",
       "    .dataframe tbody tr th:only-of-type {\n",
       "        vertical-align: middle;\n",
       "    }\n",
       "\n",
       "    .dataframe tbody tr th {\n",
       "        vertical-align: top;\n",
       "    }\n",
       "\n",
       "    .dataframe thead th {\n",
       "        text-align: right;\n",
       "    }\n",
       "</style>\n",
       "<table border=\"1\" class=\"dataframe\">\n",
       "  <thead>\n",
       "    <tr style=\"text-align: right;\">\n",
       "      <th></th>\n",
       "      <th>id</th>\n",
       "      <th>scientific_title</th>\n",
       "      <th>date</th>\n",
       "      <th>journal</th>\n",
       "      <th>title_set</th>\n",
       "      <th>drug</th>\n",
       "    </tr>\n",
       "  </thead>\n",
       "  <tbody>\n",
       "    <tr>\n",
       "      <th>0</th>\n",
       "      <td>NCT01967433</td>\n",
       "      <td>Use of Diphenhydramine as an Adjunctive Sedati...</td>\n",
       "      <td>01/01/20</td>\n",
       "      <td>Journal emergency nursing</td>\n",
       "      <td>{use, adjunctive, patients, diphenhydramine, s...</td>\n",
       "      <td>diphenhydramine</td>\n",
       "    </tr>\n",
       "    <tr>\n",
       "      <th>1</th>\n",
       "      <td>NCT04189588</td>\n",
       "      <td>Phase 2 Study IV QUZYTTIR™ (Cetirizine Hydroch...</td>\n",
       "      <td>01/01/20</td>\n",
       "      <td>Journal emergency nursing</td>\n",
       "      <td>{iv, phase, study, vs, diphenhydramine, cetiri...</td>\n",
       "      <td>diphenhydramine</td>\n",
       "    </tr>\n",
       "    <tr>\n",
       "      <th>2</th>\n",
       "      <td>NCT04237091</td>\n",
       "      <td>Feasibility of a Randomized Controlled Clinica...</td>\n",
       "      <td>01/01/20</td>\n",
       "      <td>Journal emergency nursing</td>\n",
       "      <td>{paclitaxel, replace, randomized, trial, feasi...</td>\n",
       "      <td>diphenhydramine</td>\n",
       "    </tr>\n",
       "    <tr>\n",
       "      <th>3</th>\n",
       "      <td>NCT04153396</td>\n",
       "      <td>Preemptive Infiltration With Betamethasone and...</td>\n",
       "      <td>01/01/20</td>\n",
       "      <td>Hôpitaux Universitaires Genève</td>\n",
       "      <td>{ropivacaine, preemptive, pain, betamethasone,...</td>\n",
       "      <td>betamethasone</td>\n",
       "    </tr>\n",
       "    <tr>\n",
       "      <th>4</th>\n",
       "      <td>NCT04188184</td>\n",
       "      <td>Tranexamic Acid Versus Epinephrine During Expl...</td>\n",
       "      <td>27/04/20</td>\n",
       "      <td>Journal emergency nursing</td>\n",
       "      <td>{tympanotomy, versus, epinephrine, exploratory...</td>\n",
       "      <td>epinephrine</td>\n",
       "    </tr>\n",
       "  </tbody>\n",
       "</table>\n",
       "</div>"
      ],
      "text/plain": [
       "            id                                   scientific_title      date  \\\n",
       "0  NCT01967433  Use of Diphenhydramine as an Adjunctive Sedati...  01/01/20   \n",
       "1  NCT04189588  Phase 2 Study IV QUZYTTIR™ (Cetirizine Hydroch...  01/01/20   \n",
       "2  NCT04237091  Feasibility of a Randomized Controlled Clinica...  01/01/20   \n",
       "3  NCT04153396  Preemptive Infiltration With Betamethasone and...  01/01/20   \n",
       "4  NCT04188184  Tranexamic Acid Versus Epinephrine During Expl...  27/04/20   \n",
       "\n",
       "                          journal  \\\n",
       "0       Journal emergency nursing   \n",
       "1       Journal emergency nursing   \n",
       "2       Journal emergency nursing   \n",
       "3  Hôpitaux Universitaires Genève   \n",
       "4       Journal emergency nursing   \n",
       "\n",
       "                                           title_set             drug  \n",
       "0  {use, adjunctive, patients, diphenhydramine, s...  diphenhydramine  \n",
       "1  {iv, phase, study, vs, diphenhydramine, cetiri...  diphenhydramine  \n",
       "2  {paclitaxel, replace, randomized, trial, feasi...  diphenhydramine  \n",
       "3  {ropivacaine, preemptive, pain, betamethasone,...    betamethasone  \n",
       "4  {tympanotomy, versus, epinephrine, exploratory...      epinephrine  "
      ]
     },
     "execution_count": 10,
     "metadata": {},
     "output_type": "execute_result"
    }
   ],
   "source": [
    "df_clinical"
   ]
  },
  {
   "cell_type": "code",
   "execution_count": 11,
   "id": "8ef75691-f3cf-43a2-82cb-1e3466060405",
   "metadata": {},
   "outputs": [],
   "source": [
    "df_pubmed = servier.add_drugs(df_pubmed, df_drugs)"
   ]
  },
  {
   "cell_type": "code",
   "execution_count": 12,
   "id": "4cab4206-69f3-407d-8200-e1f6764dec09",
   "metadata": {},
   "outputs": [
    {
     "data": {
      "text/html": [
       "<div>\n",
       "<style scoped>\n",
       "    .dataframe tbody tr th:only-of-type {\n",
       "        vertical-align: middle;\n",
       "    }\n",
       "\n",
       "    .dataframe tbody tr th {\n",
       "        vertical-align: top;\n",
       "    }\n",
       "\n",
       "    .dataframe thead th {\n",
       "        text-align: right;\n",
       "    }\n",
       "</style>\n",
       "<table border=\"1\" class=\"dataframe\">\n",
       "  <thead>\n",
       "    <tr style=\"text-align: right;\">\n",
       "      <th></th>\n",
       "      <th>id</th>\n",
       "      <th>title</th>\n",
       "      <th>date</th>\n",
       "      <th>journal</th>\n",
       "      <th>title_set</th>\n",
       "      <th>drug</th>\n",
       "    </tr>\n",
       "  </thead>\n",
       "  <tbody>\n",
       "    <tr>\n",
       "      <th>0</th>\n",
       "      <td>1</td>\n",
       "      <td>A 44-year-old man with erythema of the face di...</td>\n",
       "      <td>01/01/19</td>\n",
       "      <td>Journal emergency nursing</td>\n",
       "      <td>{man, erythema, face, diphenhydramine, weaknes...</td>\n",
       "      <td>diphenhydramine</td>\n",
       "    </tr>\n",
       "    <tr>\n",
       "      <th>1</th>\n",
       "      <td>2</td>\n",
       "      <td>An evaluation of benadryl, pyribenzamine, and ...</td>\n",
       "      <td>01/01/19</td>\n",
       "      <td>Journal emergency nursing</td>\n",
       "      <td>{antihistaminic, drugs, diphenhydramine, benad...</td>\n",
       "      <td>diphenhydramine</td>\n",
       "    </tr>\n",
       "    <tr>\n",
       "      <th>2</th>\n",
       "      <td>3</td>\n",
       "      <td>Diphenhydramine hydrochloride helps symptoms o...</td>\n",
       "      <td>01/02/19</td>\n",
       "      <td>The Journal pediatrics</td>\n",
       "      <td>{helps, poisoning, symptoms, diphenhydramine, ...</td>\n",
       "      <td>diphenhydramine</td>\n",
       "    </tr>\n",
       "    <tr>\n",
       "      <th>3</th>\n",
       "      <td>4</td>\n",
       "      <td>Tetracycline Resistance Patterns of Lactobacil...</td>\n",
       "      <td>01/01/20</td>\n",
       "      <td>Journal food protection</td>\n",
       "      <td>{lactobacillus, patterns, buchneri, resistance...</td>\n",
       "      <td>tetracycline</td>\n",
       "    </tr>\n",
       "    <tr>\n",
       "      <th>4</th>\n",
       "      <td>5</td>\n",
       "      <td>Appositional Tetracycline bone formation rates...</td>\n",
       "      <td>01/02/20</td>\n",
       "      <td>American journal veterinary research</td>\n",
       "      <td>{rates, appositional, beagle, tetracycline, fo...</td>\n",
       "      <td>tetracycline</td>\n",
       "    </tr>\n",
       "    <tr>\n",
       "      <th>5</th>\n",
       "      <td>6</td>\n",
       "      <td>Rapid reacquisition of contextual fear followi...</td>\n",
       "      <td>01/01/20</td>\n",
       "      <td>Psychopharmacology</td>\n",
       "      <td>{amount, reacquisition, fear, acute, following...</td>\n",
       "      <td>tetracycline</td>\n",
       "    </tr>\n",
       "    <tr>\n",
       "      <th>6</th>\n",
       "      <td>7</td>\n",
       "      <td>The High Cost of Epinephrine Autoinjectors and...</td>\n",
       "      <td>02/01/20</td>\n",
       "      <td>The journal allergy clinical immunology practice</td>\n",
       "      <td>{possible, high, epinephrine, alternatives, au...</td>\n",
       "      <td>epinephrine</td>\n",
       "    </tr>\n",
       "    <tr>\n",
       "      <th>7</th>\n",
       "      <td>8</td>\n",
       "      <td>Time to epinephrine treatment is associated wi...</td>\n",
       "      <td>03/01/20</td>\n",
       "      <td>The journal allergy clinical immunology practice</td>\n",
       "      <td>{associated, risk, cardiac, epinephrine, arres...</td>\n",
       "      <td>epinephrine</td>\n",
       "    </tr>\n",
       "  </tbody>\n",
       "</table>\n",
       "</div>"
      ],
      "text/plain": [
       "   id                                              title      date  \\\n",
       "0   1  A 44-year-old man with erythema of the face di...  01/01/19   \n",
       "1   2  An evaluation of benadryl, pyribenzamine, and ...  01/01/19   \n",
       "2   3  Diphenhydramine hydrochloride helps symptoms o...  01/02/19   \n",
       "3   4  Tetracycline Resistance Patterns of Lactobacil...  01/01/20   \n",
       "4   5  Appositional Tetracycline bone formation rates...  01/02/20   \n",
       "5   6  Rapid reacquisition of contextual fear followi...  01/01/20   \n",
       "6   7  The High Cost of Epinephrine Autoinjectors and...  02/01/20   \n",
       "7   8  Time to epinephrine treatment is associated wi...  03/01/20   \n",
       "\n",
       "                                            journal  \\\n",
       "0                         Journal emergency nursing   \n",
       "1                         Journal emergency nursing   \n",
       "2                            The Journal pediatrics   \n",
       "3                           Journal food protection   \n",
       "4              American journal veterinary research   \n",
       "5                                Psychopharmacology   \n",
       "6  The journal allergy clinical immunology practice   \n",
       "7  The journal allergy clinical immunology practice   \n",
       "\n",
       "                                           title_set             drug  \n",
       "0  {man, erythema, face, diphenhydramine, weaknes...  diphenhydramine  \n",
       "1  {antihistaminic, drugs, diphenhydramine, benad...  diphenhydramine  \n",
       "2  {helps, poisoning, symptoms, diphenhydramine, ...  diphenhydramine  \n",
       "3  {lactobacillus, patterns, buchneri, resistance...     tetracycline  \n",
       "4  {rates, appositional, beagle, tetracycline, fo...     tetracycline  \n",
       "5  {amount, reacquisition, fear, acute, following...     tetracycline  \n",
       "6  {possible, high, epinephrine, alternatives, au...      epinephrine  \n",
       "7  {associated, risk, cardiac, epinephrine, arres...      epinephrine  "
      ]
     },
     "execution_count": 12,
     "metadata": {},
     "output_type": "execute_result"
    }
   ],
   "source": [
    "df_pubmed"
   ]
  },
  {
   "cell_type": "markdown",
   "id": "c37cfad6-6bf3-43fe-86b5-ed1aecf15531",
   "metadata": {},
   "source": [
    "#### Création du graphe de liaison entre: *journal*, *pubmed*, *clinical_trial* et *drug* "
   ]
  },
  {
   "cell_type": "code",
   "execution_count": 13,
   "id": "3f5cb23f-0e39-4ffa-90ef-bc088802accf",
   "metadata": {},
   "outputs": [],
   "source": [
    "G = servier.build_digraph(df_pubmed, df_clinical)"
   ]
  },
  {
   "cell_type": "code",
   "execution_count": 14,
   "id": "0331ea8f-42c8-4560-9f6c-bd9f17d041ca",
   "metadata": {},
   "outputs": [
    {
     "name": "stdout",
     "output_type": "stream",
     "text": [
      "DiGraph with 17 nodes and 14 edges\n"
     ]
    }
   ],
   "source": [
    "servier.info_graph(G)"
   ]
  },
  {
   "cell_type": "markdown",
   "id": "49776fb8-a8db-4ae1-a4eb-70f09250371f",
   "metadata": {},
   "source": [
    "#### Affichage du graphe"
   ]
  },
  {
   "cell_type": "code",
   "execution_count": 15,
   "id": "8d992db8-d5a4-40c0-bbcd-6139d1e3cc98",
   "metadata": {},
   "outputs": [
    {
     "data": {
      "image/png": "[encoded data removed]",
      "text/plain": [
       "<Figure size 576x360 with 1 Axes>"
      ]
     },
     "metadata": {},
     "output_type": "display_data"
    }
   ],
   "source": [
    "servier.draw_graph(G)"
   ]
  },
  {
   "cell_type": "markdown",
   "id": "b9468822-b57e-4f6f-9cbf-c5be33b23ff9",
   "metadata": {},
   "source": [
    "#### Affichage de l'output"
   ]
  },
  {
   "cell_type": "code",
   "execution_count": 16,
   "id": "d2f83097-2b7e-40f8-9fc3-268599029866",
   "metadata": {},
   "outputs": [
    {
     "data": {
      "text/plain": [
       "{'directed': True,\n",
       " 'multigraph': False,\n",
       " 'graph': {},\n",
       " 'nodes': [{'name': 'drug', 'id': 'diphenhydramine'},\n",
       "  {'name': 'journal', 'id': 'Journal emergency nursing'},\n",
       "  {'name': 'pubmed',\n",
       "   'id': 'A 44-year-old man with erythema of the face diphenhydramine, neck, and chest, weakness, and palpitations'},\n",
       "  {'name': 'pubmed',\n",
       "   'id': 'An evaluation of benadryl, pyribenzamine, and other so-called diphenhydramine antihistaminic drugs in the treatment of allergy.'},\n",
       "  {'name': 'journal', 'id': 'The Journal pediatrics'},\n",
       "  {'name': 'pubmed',\n",
       "   'id': 'Diphenhydramine hydrochloride helps symptoms of ciguatera fish poisoning.'},\n",
       "  {'name': 'drug', 'id': 'tetracycline'},\n",
       "  {'name': 'journal', 'id': 'Journal food protection'},\n",
       "  {'name': 'pubmed',\n",
       "   'id': 'Tetracycline Resistance Patterns of Lactobacillus buchneri Group Strains.'},\n",
       "  {'name': 'journal', 'id': 'American journal veterinary research'},\n",
       "  {'name': 'pubmed',\n",
       "   'id': 'Appositional Tetracycline bone formation rates in the Beagle.'},\n",
       "  {'name': 'journal', 'id': 'Psychopharmacology'},\n",
       "  {'name': 'pubmed',\n",
       "   'id': 'Rapid reacquisition of contextual fear following extinction in mice: effects of amount of extinction, tetracycline acute ethanol withdrawal, and ethanol intoxication.'},\n",
       "  {'name': 'drug', 'id': 'epinephrine'},\n",
       "  {'name': 'journal',\n",
       "   'id': 'The journal allergy clinical immunology practice'},\n",
       "  {'name': 'pubmed',\n",
       "   'id': 'The High Cost of Epinephrine Autoinjectors and Possible Alternatives.'},\n",
       "  {'name': 'pubmed',\n",
       "   'id': 'Time to epinephrine treatment is associated with the risk of mortality in children who achieve sustained ROSC after traumatic out-of-hospital cardiac arrest.'}],\n",
       " 'links': [{'date': '01/01/19',\n",
       "   'source': 'diphenhydramine',\n",
       "   'target': 'Journal emergency nursing'},\n",
       "  {'source': 'diphenhydramine',\n",
       "   'target': 'A 44-year-old man with erythema of the face diphenhydramine, neck, and chest, weakness, and palpitations'},\n",
       "  {'source': 'diphenhydramine',\n",
       "   'target': 'An evaluation of benadryl, pyribenzamine, and other so-called diphenhydramine antihistaminic drugs in the treatment of allergy.'},\n",
       "  {'date': '01/02/19',\n",
       "   'source': 'diphenhydramine',\n",
       "   'target': 'The Journal pediatrics'},\n",
       "  {'source': 'diphenhydramine',\n",
       "   'target': 'Diphenhydramine hydrochloride helps symptoms of ciguatera fish poisoning.'},\n",
       "  {'date': '01/01/20',\n",
       "   'source': 'tetracycline',\n",
       "   'target': 'Journal food protection'},\n",
       "  {'source': 'tetracycline',\n",
       "   'target': 'Tetracycline Resistance Patterns of Lactobacillus buchneri Group Strains.'},\n",
       "  {'date': '01/02/20',\n",
       "   'source': 'tetracycline',\n",
       "   'target': 'American journal veterinary research'},\n",
       "  {'source': 'tetracycline',\n",
       "   'target': 'Appositional Tetracycline bone formation rates in the Beagle.'},\n",
       "  {'date': '01/01/20',\n",
       "   'source': 'tetracycline',\n",
       "   'target': 'Psychopharmacology'},\n",
       "  {'source': 'tetracycline',\n",
       "   'target': 'Rapid reacquisition of contextual fear following extinction in mice: effects of amount of extinction, tetracycline acute ethanol withdrawal, and ethanol intoxication.'},\n",
       "  {'date': '03/01/20',\n",
       "   'source': 'epinephrine',\n",
       "   'target': 'The journal allergy clinical immunology practice'},\n",
       "  {'source': 'epinephrine',\n",
       "   'target': 'The High Cost of Epinephrine Autoinjectors and Possible Alternatives.'},\n",
       "  {'source': 'epinephrine',\n",
       "   'target': 'Time to epinephrine treatment is associated with the risk of mortality in children who achieve sustained ROSC after traumatic out-of-hospital cardiac arrest.'}]}"
      ]
     },
     "execution_count": 16,
     "metadata": {},
     "output_type": "execute_result"
    }
   ],
   "source": [
    "servier.output(G)"
   ]
  },
  {
   "cell_type": "markdown",
   "id": "a45028f8-3009-4fdb-8b38-4f3fa99aa838",
   "metadata": {},
   "source": [
    "#### Sauvegarde du *output* dans un fichier json *output.json*"
   ]
  },
  {
   "cell_type": "code",
   "execution_count": 17,
   "id": "858eaa1e-366a-42a3-961e-5220df8ab9c9",
   "metadata": {},
   "outputs": [],
   "source": [
    "servier.save_json(G)"
   ]
  },
  {
   "cell_type": "code",
   "execution_count": 18,
   "id": "620317d0-3149-4b1c-a47c-b22f3d5d9b3a",
   "metadata": {},
   "outputs": [
    {
     "name": "stdout",
     "output_type": "stream",
     "text": [
      "clinical_trials.csv  drugs.csv\t  pubmed.csv   __pycache__  SQL.ipynb\n",
      "DAG.ipynb\t     output.json  pubmed.json  servier.py\n"
     ]
    }
   ],
   "source": [
    "!ls"
   ]
  },
  {
   "cell_type": "markdown",
   "id": "6ea1a8f1-bb07-4e42-839d-6a5c171d19de",
   "metadata": {},
   "source": [
    "### Affichage des noeuds qui ont le degré maximal\n",
    "#### Le médicament le plus cité"
   ]
  },
  {
   "cell_type": "code",
   "execution_count": 19,
   "id": "43533721-7a30-4a9b-942e-d44ce7b9170a",
   "metadata": {},
   "outputs": [
    {
     "data": {
      "text/plain": [
       "'tetracycline'"
      ]
     },
     "execution_count": 19,
     "metadata": {},
     "output_type": "execute_result"
    }
   ],
   "source": [
    "servier.max_degree_drug(G)"
   ]
  },
  {
   "cell_type": "markdown",
   "id": "37ddf2be-6f1a-4497-8bb6-74af447d43fc",
   "metadata": {},
   "source": [
    "#### Le journal qui a cité le plus de médicament"
   ]
  },
  {
   "cell_type": "code",
   "execution_count": 20,
   "id": "5478e1e5-c434-4aa5-86b7-0c4dbd700925",
   "metadata": {},
   "outputs": [
    {
     "data": {
      "text/plain": [
       "'Journal emergency nursing'"
      ]
     },
     "execution_count": 20,
     "metadata": {},
     "output_type": "execute_result"
    }
   ],
   "source": [
    "servier.max_degree_journal(G)"
   ]
  },
  {
   "cell_type": "markdown",
   "id": "6ea3b4af-42de-40eb-8c73-af765ec6ab54",
   "metadata": {},
   "source": [
    "#### La publication qui a cité le plus de médicament"
   ]
  },
  {
   "cell_type": "code",
   "execution_count": 21,
   "id": "49953db7-ef67-42e7-bf04-754e1c637563",
   "metadata": {},
   "outputs": [
    {
     "data": {
      "text/plain": [
       "'A 44-year-old man with erythema of the face diphenhydramine, neck, and chest, weakness, and palpitations'"
      ]
     },
     "execution_count": 21,
     "metadata": {},
     "output_type": "execute_result"
    }
   ],
   "source": [
    "servier.max_degree_pubmed(G)"
   ]
  },
  {
   "cell_type": "markdown",
   "id": "b42af253-60da-47cf-862d-adc2f412ff42",
   "metadata": {},
   "source": [
    "#### Le noeud qui a le degré maximum: c'est un médicament"
   ]
  },
  {
   "cell_type": "code",
   "execution_count": 22,
   "id": "937e288d-9c0a-4d11-a409-fd41b975099f",
   "metadata": {},
   "outputs": [
    {
     "data": {
      "text/plain": [
       "'tetracycline'"
      ]
     },
     "execution_count": 22,
     "metadata": {},
     "output_type": "execute_result"
    }
   ],
   "source": [
    "servier.max_degree_graph(G)"
   ]
  },
  {
   "cell_type": "markdown",
   "id": "15bd783d-6900-47f7-914f-5adbda0af796",
   "metadata": {},
   "source": [
    "#### Conclusion\n",
    "Il est courant dans les domaines de la biologie, pharmaceutique et les publications scientifiques, que les données soient connectées. Cela peut être modélisé mathématiquement par un graphe (**théorie des graphes**). Et techniquement on parle de réseau ou de Graphe Data Base. L'avantage de travailler avec la théorie des graphes (très mal connu malheureusement) est de pouvoir bénéficier de décennies de traveaux de recherche mathématiques dans ce domaines (voir par exemple: Alhajj, Reda and Jon Rokne (2018). “Encyclopedia of Social Network Analysis and Mining”. In: Springer.) et plus récemment pouvoir faire du **Machine Learning** sur les graphes (**Graph Convolutional Networks**) (voir par exemple: William L. Hamilton, Rex Ying and Jure Leskovec (2017). “Inductive Representation Learning on Large Graphs.” In: NIPS.).\n",
    "\n",
    "Google a ajouté à son moteur de recherche le **Knowledge Graph** et des entreprises tels que **Neo4j** propose des **Graph Data Base** qui peuvent bénéficier des avancées du cloud pour traiter des grandes masses de données (voir par exemple: https://neo4j.com/cloud/aura-google-cloud/). En effet, par exemple avec **Neo4j Aura** on peut faire de la data science sur une **Graph Data Base** sur *Google Cloud* et donc bénéficier de la *stack* technologique de GCP tel que **Cloud Composer** et **Dataflow** pour faire des pipelines qui traitent des données massives!"
   ]
  }
 ],
 "metadata": {
  "kernelspec": {
   "display_name": "Python 3 (ipykernel)",
   "language": "python",
   "name": "python3"
  },
  "language_info": {
   "codemirror_mode": {
    "name": "ipython",
    "version": 3
   },
   "file_extension": ".py",
   "mimetype": "text/x-python",
   "name": "python",
   "nbconvert_exporter": "python",
   "pygments_lexer": "ipython3",
   "version": "3.8.13"
  }
 },
 "nbformat": 4,
 "nbformat_minor": 5
}
